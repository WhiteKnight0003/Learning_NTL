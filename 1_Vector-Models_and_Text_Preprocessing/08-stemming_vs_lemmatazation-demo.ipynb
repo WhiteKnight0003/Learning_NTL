{
 "cells": [
  {
   "cell_type": "code",
   "execution_count": 1,
   "id": "2b3b637a",
   "metadata": {},
   "outputs": [],
   "source": [
    "# Import các thư viện cần thiết\n",
    "import nltk\n",
    "from nltk.stem import PorterStemmer, WordNetLemmatizer\n",
    "from nltk.corpus import wordnet"
   ]
  },
  {
   "cell_type": "code",
   "execution_count": 23,
   "id": "061d81f6",
   "metadata": {},
   "outputs": [
    {
     "name": "stderr",
     "output_type": "stream",
     "text": [
      "[nltk_data] Downloading package wordnet to\n",
      "[nltk_data]     C:\\Users\\tienc\\AppData\\Roaming\\nltk_data...\n",
      "[nltk_data]   Package wordnet is already up-to-date!\n",
      "[nltk_data] Downloading package averaged_perceptron_tagger to\n",
      "[nltk_data]     C:\\Users\\tienc\\AppData\\Roaming\\nltk_data...\n",
      "[nltk_data]   Package averaged_perceptron_tagger is already up-to-\n",
      "[nltk_data]       date!\n",
      "[nltk_data] Downloading package punkt to\n",
      "[nltk_data]     C:\\Users\\tienc\\AppData\\Roaming\\nltk_data...\n",
      "[nltk_data]   Package punkt is already up-to-date!\n",
      "[nltk_data] Downloading package averaged_perceptron_tagger_eng to\n",
      "[nltk_data]     C:\\Users\\tienc\\AppData\\Roaming\\nltk_data...\n",
      "[nltk_data]   Unzipping taggers\\averaged_perceptron_tagger_eng.zip.\n"
     ]
    },
    {
     "data": {
      "text/plain": [
       "True"
      ]
     },
     "execution_count": 23,
     "metadata": {},
     "output_type": "execute_result"
    }
   ],
   "source": [
    "# --- Tải các tài nguyên cần thiết của NLTK (chỉ cần chạy một lần) ---\n",
    "nltk.download('wordnet')\n",
    "nltk.download('averaged_perceptron_tagger')\n",
    "nltk.download('punkt') # Cần cho tokenizer, có thể đã được tải trước đó\n",
    "nltk.download('averaged_perceptron_tagger_eng')"
   ]
  },
  {
   "cell_type": "markdown",
   "id": "242e1a47",
   "metadata": {},
   "source": [
    "# 1. Ví dụ về Stemming với Porter Stemmer ---\n"
   ]
  },
  {
   "cell_type": "code",
   "execution_count": 2,
   "id": "00e2c3c0",
   "metadata": {},
   "outputs": [
    {
     "name": "stdout",
     "output_type": "stream",
     "text": [
      "--- Stemming Examples ---\n"
     ]
    }
   ],
   "source": [
    "print(\"--- Stemming Examples ---\")\n",
    "porter = PorterStemmer()"
   ]
  },
  {
   "cell_type": "code",
   "execution_count": 3,
   "id": "812d5f87",
   "metadata": {},
   "outputs": [
    {
     "name": "stdout",
     "output_type": "stream",
     "text": [
      "Stemming 'walking': walk\n",
      "Stemming 'walked': walk\n",
      "Stemming 'walks': walk\n",
      "Stemming 'ran': ran\n",
      "Stemming 'running': run\n",
      "Stemming 'bosses': boss\n",
      "Stemming 'replacement': replac\n",
      "Stemming 'unnecessary': unnecessari\n",
      "Stemming 'berry': berri\n",
      "Stemming 'mice': mice\n",
      "Stemming 'was': wa\n",
      "Stemming 'is': is\n",
      "Stemming 'better': better\n",
      "\n",
      "Stemming a sentence:\n",
      "lemmat is more sophist than stemming.\n"
     ]
    }
   ],
   "source": [
    "words_to_stem = [\"walking\", \"walked\", \"walks\", \"ran\", \"running\", \"bosses\", \"replacement\", \"unnecessary\", \"berry\", \"mice\", \"was\", \"is\", \"better\"]\n",
    "\n",
    "for word in words_to_stem:\n",
    "    print(f\"Stemming '{word}': {porter.stem(word)}\")\n",
    "\n",
    "print(\"\\nStemming a sentence:\")\n",
    "sentence_for_stemming = \"Lemmatization is more sophisticated than stemming.\"\n",
    "tokens_for_stemming = sentence_for_stemming.split() # Chia câu thành các từ đơn giản\n",
    "\n",
    "stemmed_sentence = [porter.stem(token) for token in tokens_for_stemming]\n",
    "print(\" \".join(stemmed_sentence))"
   ]
  },
  {
   "cell_type": "markdown",
   "id": "abadb602",
   "metadata": {},
   "source": [
    "# 2. Ví dụ về Lemmatization với WordNetLemmatizer ---"
   ]
  },
  {
   "cell_type": "code",
   "execution_count": 6,
   "id": "a4cc2866",
   "metadata": {},
   "outputs": [
    {
     "name": "stdout",
     "output_type": "stream",
     "text": [
      "\n",
      "--- Lemmatization Examples ---\n",
      "Lemmatizing 'walking' (default): walking\n",
      "Lemmatizing 'going' (default): going\n",
      "Lemmatizing 'mice' (default): mouse\n",
      "Lemmatizing 'walking' (verb): walk\n",
      "Lemmatizing 'going' (verb): go\n",
      "Lemmatizing 'ran' (verb): run\n",
      "\n",
      "Stemming 'was': wa\n",
      "Lemmatizing 'was' (verb): be\n",
      "Stemming 'is': is\n",
      "Lemmatizing 'is' (verb): be\n",
      "Stemming 'better': better\n",
      "Lemmatizing 'better' (adjective): good\n"
     ]
    }
   ],
   "source": [
    "print(\"\\n--- Lemmatization Examples ---\")\n",
    "lemmatizer = WordNetLemmatizer()\n",
    "\n",
    "# Ví dụ cơ bản không có POS tag (mặc định là danh từ)\n",
    "print(f\"Lemmatizing 'walking' (default): {lemmatizer.lemmatize('walking')}\")\n",
    "print(f\"Lemmatizing 'going' (default): {lemmatizer.lemmatize('going')}\")\n",
    "print(f\"Lemmatizing 'mice' (default): {lemmatizer.lemmatize('mice')}\") # Correctly lemmatizes irregular plural\n",
    "\n",
    "\n",
    "# Ví dụ với POS tag (động từ)\n",
    "print(f\"Lemmatizing 'walking' (verb): {lemmatizer.lemmatize('walking', pos=wordnet.VERB)}\")\n",
    "print(f\"Lemmatizing 'going' (verb): {lemmatizer.lemmatize('going', pos=wordnet.VERB)}\")\n",
    "print(f\"Lemmatizing 'ran' (verb): {lemmatizer.lemmatize('ran', pos=wordnet.VERB)}\") # Lemmatizes past tense\n",
    "\n",
    "# Ví dụ so sánh Stemming và Lemmatization cho cùng từ\n",
    "print(f\"\\nStemming 'was': {porter.stem('was')}\")\n",
    "print(f\"Lemmatizing 'was' (verb): {lemmatizer.lemmatize('was', pos=wordnet.VERB)}\") # Lemmatizes 'was' to 'be'\n",
    "\n",
    "print(f\"Stemming 'is': {porter.stem('is')}\")\n",
    "print(f\"Lemmatizing 'is' (verb): {lemmatizer.lemmatize('is', pos=wordnet.VERB)}\") # Lemmatizes 'is' to 'be'\n",
    "\n",
    "print(f\"Stemming 'better': {porter.stem('better')}\")\n",
    "print(f\"Lemmatizing 'better' (adjective): {lemmatizer.lemmatize('better', pos=wordnet.ADJ)}\") # Lemmatizes 'better' to 'good'"
   ]
  },
  {
   "cell_type": "markdown",
   "id": "54fa3a49",
   "metadata": {},
   "source": [
    "# 3. Ánh xạ POS tag của NLTK sang WordNet POS tag ---\n",
    "    - NLTK's pos_tag trả về các tag theo chuẩn Treebank\n",
    "    - WordNetLemmatizer sử dụng các tag của WordNet (n, v, a, r, s)"
   ]
  },
  {
   "cell_type": "code",
   "execution_count": 7,
   "id": "71660e3b",
   "metadata": {},
   "outputs": [],
   "source": [
    "def get_wordnet_pos(treebank_tag):\n",
    "    \"\"\"\n",
    "    Ánh xạ Treebank POS tags sang WordNet POS tags\n",
    "    \"\"\"\n",
    "    if treebank_tag.startswith('J'):\n",
    "        return wordnet.ADJ\n",
    "    elif treebank_tag.startswith('V'):\n",
    "        return wordnet.VERB\n",
    "    elif treebank_tag.startswith('N'):\n",
    "        return wordnet.NOUN\n",
    "    elif treebank_tag.startswith('R'):\n",
    "        return wordnet.ADV\n",
    "    else:\n",
    "        # Mặc định là danh từ nếu không xác định được\n",
    "        return wordnet.NOUN"
   ]
  },
  {
   "cell_type": "markdown",
   "id": "a530daa6",
   "metadata": {},
   "source": [
    "# 4. Ví dụ Lemmatization với POS tagging cho cả câu ---"
   ]
  },
  {
   "cell_type": "code",
   "execution_count": 24,
   "id": "10a1e2a0",
   "metadata": {},
   "outputs": [
    {
     "name": "stdout",
     "output_type": "stream",
     "text": [
      "\n",
      "--- Lemmatization Sentences with POS Tags ---\n",
      "\n",
      "Original words and NLTK POS tags: [('Donald', 'NNP'), ('Trump', 'NNP'), ('has', 'VBZ'), ('a', 'DT'), ('devoted', 'VBN'), ('following', 'NN')]\n",
      "Lemmatized sentence: Donald Trump have a devote following\n",
      "\n",
      "Original words and NLTK POS tags: [('The', 'DT'), ('cat', 'NN'), ('was', 'VBD'), ('following', 'VBG'), ('the', 'DT'), ('bird', 'NN'), ('as', 'IN'), ('it', 'PRP'), ('flew', 'VBD'), ('by', 'IN')]\n",
      "Lemmatized sentence: The cat be follow the bird a it fly by\n"
     ]
    }
   ],
   "source": [
    "print(\"\\n--- Lemmatization Sentences with POS Tags ---\")\n",
    "\n",
    "sentence1 = \"Donald Trump has a devoted following\"\n",
    "# Tokenize và POS tag câu\n",
    "words_and_tags1 = nltk.pos_tag(nltk.word_tokenize(sentence1))\n",
    "print(f\"\\nOriginal words and NLTK POS tags: {words_and_tags1}\")\n",
    "\n",
    "# Lemmatize từng từ sử dụng POS tag đã ánh xạ\n",
    "lemmatized_sentence1 = [\n",
    "    lemmatizer.lemmatize(word, pos=get_wordnet_pos(tag))\n",
    "    for word, tag in words_and_tags1\n",
    "]\n",
    "print(f\"Lemmatized sentence: {' '.join(lemmatized_sentence1)}\")\n",
    "\n",
    "\n",
    "sentence2 = \"The cat was following the bird as it flew by\"\n",
    "# Tokenize và POS tag câu\n",
    "words_and_tags2 = nltk.pos_tag(nltk.word_tokenize(sentence2))\n",
    "print(f\"\\nOriginal words and NLTK POS tags: {words_and_tags2}\")\n",
    "\n",
    "# Lemmatize từng từ sử dụng POS tag đã ánh xạ\n",
    "lemmatized_sentence2 = [\n",
    "    lemmatizer.lemmatize(word, pos=get_wordnet_pos(tag))\n",
    "    for word, tag in words_and_tags2\n",
    "]\n",
    "print(f\"Lemmatized sentence: {' '.join(lemmatized_sentence2)}\")"
   ]
  },
  {
   "cell_type": "code",
   "execution_count": 19,
   "id": "aa115728",
   "metadata": {},
   "outputs": [
    {
     "name": "stdout",
     "output_type": "stream",
     "text": [
      "3.9.1\n",
      "showing info https://raw.githubusercontent.com/nltk/nltk_data/gh-pages/index.xml\n"
     ]
    },
    {
     "data": {
      "text/plain": [
       "True"
      ]
     },
     "execution_count": 19,
     "metadata": {},
     "output_type": "execute_result"
    }
   ],
   "source": [
    "print(nltk.__version__)\n",
    "nltk.download()"
   ]
  }
 ],
 "metadata": {
  "kernelspec": {
   "display_name": "base",
   "language": "python",
   "name": "python3"
  },
  "language_info": {
   "codemirror_mode": {
    "name": "ipython",
    "version": 3
   },
   "file_extension": ".py",
   "mimetype": "text/x-python",
   "name": "python",
   "nbconvert_exporter": "python",
   "pygments_lexer": "ipython3",
   "version": "3.12.7"
  }
 },
 "nbformat": 4,
 "nbformat_minor": 5
}
